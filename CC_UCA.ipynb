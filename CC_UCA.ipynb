{
  "nbformat": 4,
  "nbformat_minor": 0,
  "metadata": {
    "colab": {
      "name": " CC-UCA.ipynb",
      "provenance": []
    },
    "kernelspec": {
      "name": "python3",
      "display_name": "Python 3"
    },
    "language_info": {
      "name": "python"
    }
  },
  "cells": [
    {
      "cell_type": "markdown",
      "source": [
        "# **Complejidad Computacional**\n",
        "\n",
        "Unidad: Complejidad Algorítmica\n",
        "\n",
        "Nombre: Lizbeth Quezada\n",
        "\n",
        "Ciclo: 4 Paralelo \"B\""
      ],
      "metadata": {
        "id": "bg7Pr0xIGZuh"
      }
    },
    {
      "cell_type": "markdown",
      "source": [
        "Algoritmo 1:"
      ],
      "metadata": {
        "id": "2V6_xTeRHnVD"
      }
    },
    {
      "cell_type": "code",
      "source": [
        "def fact(n):\n",
        "    product = 1\n",
        "    for i in range(n):\n",
        "        product = product * (i+1)\n",
        "    return product\n",
        "\n",
        "print (fact(4))"
      ],
      "metadata": {
        "colab": {
          "base_uri": "https://localhost:8080/"
        },
        "id": "F1FGuL7THe1P",
        "outputId": "ddc1f859-1d33-430f-c815-f3ae8c12d306"
      },
      "execution_count": 30,
      "outputs": [
        {
          "output_type": "stream",
          "name": "stdout",
          "text": [
            "24\n"
          ]
        }
      ]
    },
    {
      "cell_type": "markdown",
      "source": [
        "Algoritmo 2:"
      ],
      "metadata": {
        "id": "_j9isgw2HrMc"
      }
    },
    {
      "cell_type": "code",
      "source": [
        "def fact2(n):\n",
        "    if n == 0:\n",
        "        return 1\n",
        "    else:\n",
        "        return n * fact2(n-1)\n",
        "\n",
        "print (fact2(4))"
      ],
      "metadata": {
        "colab": {
          "base_uri": "https://localhost:8080/"
        },
        "id": "7ezj3DJ3HtcR",
        "outputId": "2a123849-ab9f-4aef-f6f1-0f20f65871b4"
      },
      "execution_count": 31,
      "outputs": [
        {
          "output_type": "stream",
          "name": "stdout",
          "text": [
            "24\n"
          ]
        }
      ]
    },
    {
      "cell_type": "markdown",
      "source": [
        "Tiempo de ejecución de los algoritmos:"
      ],
      "metadata": {
        "id": "J4lMldv-JrDs"
      }
    },
    {
      "cell_type": "code",
      "source": [
        "#Algoritmo 1\n",
        "%timeit fact(500)"
      ],
      "metadata": {
        "colab": {
          "base_uri": "https://localhost:8080/"
        },
        "id": "653gHsDVJvMP",
        "outputId": "b910df06-5deb-465b-ef56-28c0432f0334"
      },
      "execution_count": 32,
      "outputs": [
        {
          "output_type": "stream",
          "name": "stdout",
          "text": [
            "10000 loops, best of 5: 88.9 µs per loop\n"
          ]
        }
      ]
    },
    {
      "cell_type": "code",
      "source": [
        "\n",
        "#Algoritmo 2\n",
        "%timeit fact2(500)"
      ],
      "metadata": {
        "colab": {
          "base_uri": "https://localhost:8080/"
        },
        "id": "8dczON2kJ-5Q",
        "outputId": "4c4af1f2-81c0-4647-fdb5-301d715f17ea"
      },
      "execution_count": 33,
      "outputs": [
        {
          "output_type": "stream",
          "name": "stdout",
          "text": [
            "10000 loops, best of 5: 140 µs per loop\n"
          ]
        }
      ]
    },
    {
      "cell_type": "markdown",
      "source": [
        "Complejidad Constante:"
      ],
      "metadata": {
        "id": "JhvlASZGLzoi"
      }
    },
    {
      "cell_type": "code",
      "source": [
        "def constant_algo(items):\n",
        "    result = items[0] * items[0]\n",
        "    print (result)\n",
        "\n",
        "constant_algo([3, 4, 5, 7])"
      ],
      "metadata": {
        "colab": {
          "base_uri": "https://localhost:8080/"
        },
        "id": "8OqhzUbTL2Ly",
        "outputId": "7d39561b-c438-40c9-9c61-2b3905206b40"
      },
      "execution_count": 34,
      "outputs": [
        {
          "output_type": "stream",
          "name": "stdout",
          "text": [
            "9\n"
          ]
        }
      ]
    },
    {
      "cell_type": "code",
      "source": [
        "import matplotlib.pyplot as plt\n",
        "import numpy as np\n",
        "\n",
        "x = [3,5, 7, 9, 11, 13]\n",
        "\n",
        "y = [3, 3, 3, 3, 3, 3]\n",
        "\n",
        "plt.plot(x, y, 'b')\n",
        "plt.xlabel('Entradas')\n",
        "plt.ylabel('Pasos')\n",
        "plt.title('Complejidad Constante')\n",
        "plt.show()"
      ],
      "metadata": {
        "colab": {
          "base_uri": "https://localhost:8080/",
          "height": 295
        },
        "id": "_0ud7HPWMf5y",
        "outputId": "c248c509-138f-4663-d9f6-2c9923152cc2"
      },
      "execution_count": 35,
      "outputs": [
        {
          "output_type": "display_data",
          "data": {
            "image/png": "[encoded data removed]",
            "text/plain": [
              "<Figure size 432x288 with 1 Axes>"
            ]
          },
          "metadata": {
            "needs_background": "light"
          }
        }
      ]
    },
    {
      "cell_type": "markdown",
      "source": [
        "Complejidad Lineal:"
      ],
      "metadata": {
        "id": "nghTsN-wM7KN"
      }
    },
    {
      "cell_type": "code",
      "source": [
        "def linear_algo(items):\n",
        "    for item in items:\n",
        "        print(item)\n",
        "\n",
        "linear_algo([3, 4, 5, 7])"
      ],
      "metadata": {
        "colab": {
          "base_uri": "https://localhost:8080/"
        },
        "id": "lNBH1237NHOo",
        "outputId": "0af67caf-fb52-49bb-860d-5a98220e532f"
      },
      "execution_count": 36,
      "outputs": [
        {
          "output_type": "stream",
          "name": "stdout",
          "text": [
            "3\n",
            "4\n",
            "5\n",
            "7\n"
          ]
        }
      ]
    },
    {
      "cell_type": "code",
      "source": [
        "import matplotlib.pyplot as plt\n",
        "import numpy as np\n",
        "\n",
        "x = [3,5, 7, 9, 11, 13]\n",
        "\n",
        "y = [3,5, 7, 9, 11, 13]\n",
        "\n",
        "plt.plot(x, y, 'b')\n",
        "plt.xlabel('Entradas')\n",
        "plt.ylabel('Pasos')\n",
        "plt.title('Complejidad Lineal')\n",
        "plt.show()"
      ],
      "metadata": {
        "colab": {
          "base_uri": "https://localhost:8080/",
          "height": 295
        },
        "id": "_AlUCPutNPyB",
        "outputId": "23a86816-e545-43fb-b56f-12d58353be5a"
      },
      "execution_count": 37,
      "outputs": [
        {
          "output_type": "display_data",
          "data": {
            "image/png": "[encoded data removed]",
            "text/plain": [
              "<Figure size 432x288 with 1 Axes>"
            ]
          },
          "metadata": {
            "needs_background": "light"
          }
        }
      ]
    },
    {
      "cell_type": "code",
      "source": [
        "def linear_algo(items):\n",
        "    for item in items:\n",
        "        print(item)\n",
        "\n",
        "    for item in items:\n",
        "        print(item)\n",
        "\n",
        "linear_algo([3, 4, 5, 7])"
      ],
      "metadata": {
        "colab": {
          "base_uri": "https://localhost:8080/"
        },
        "id": "2TgjHQhzNhTj",
        "outputId": "734ce1e5-b63e-4877-efcb-3e68fec04d0d"
      },
      "execution_count": 38,
      "outputs": [
        {
          "output_type": "stream",
          "name": "stdout",
          "text": [
            "3\n",
            "4\n",
            "5\n",
            "7\n",
            "3\n",
            "4\n",
            "5\n",
            "7\n"
          ]
        }
      ]
    },
    {
      "cell_type": "code",
      "source": [
        "import matplotlib.pyplot as plt\n",
        "import numpy as np\n",
        "\n",
        "x = [3,5, 7, 9, 11, 13]\n",
        "\n",
        "y = [5, 9, 13, 17, 21, 25]\n",
        "\n",
        "plt.plot(x, y, 'b')\n",
        "plt.xlabel('Entradas')\n",
        "plt.ylabel('Pasos')\n",
        "plt.title('Complejidad Lineal')\n",
        "plt.show()"
      ],
      "metadata": {
        "colab": {
          "base_uri": "https://localhost:8080/",
          "height": 295
        },
        "id": "liJPVeTVNr2d",
        "outputId": "936aaff8-87ce-45f7-fafa-7d254c0bfe16"
      },
      "execution_count": 39,
      "outputs": [
        {
          "output_type": "display_data",
          "data": {
            "image/png": "[encoded data removed]",
            "text/plain": [
              "<Figure size 432x288 with 1 Axes>"
            ]
          },
          "metadata": {
            "needs_background": "light"
          }
        }
      ]
    },
    {
      "cell_type": "markdown",
      "source": [
        "Complejidad Cuadrática:"
      ],
      "metadata": {
        "id": "LVUKDf68N87q"
      }
    },
    {
      "cell_type": "code",
      "source": [
        "def quadratic_algo(items):\n",
        "    for item in items:\n",
        "        for item2 in items:\n",
        "            print(item, ' ' ,item)\n",
        "\n",
        "quadratic_algo([3, 4, 5, 7])"
      ],
      "metadata": {
        "colab": {
          "base_uri": "https://localhost:8080/"
        },
        "id": "2A8n1gS8OAbb",
        "outputId": "ffffc424-86c0-4508-ed23-3b2053664668"
      },
      "execution_count": 40,
      "outputs": [
        {
          "output_type": "stream",
          "name": "stdout",
          "text": [
            "3   3\n",
            "3   3\n",
            "3   3\n",
            "3   3\n",
            "4   4\n",
            "4   4\n",
            "4   4\n",
            "4   4\n",
            "5   5\n",
            "5   5\n",
            "5   5\n",
            "5   5\n",
            "7   7\n",
            "7   7\n",
            "7   7\n",
            "7   7\n"
          ]
        }
      ]
    },
    {
      "cell_type": "markdown",
      "source": [
        "Complejidad de funciones complejas"
      ],
      "metadata": {
        "id": "RnSy2tFHOc0e"
      }
    },
    {
      "cell_type": "code",
      "source": [
        "def complex_algo(items):\n",
        "\n",
        "    for i in range(5):\n",
        "        print (\"Python es fenomenal\")\n",
        "\n",
        "    for item in items:\n",
        "        print(item)\n",
        "\n",
        "    for item in items:\n",
        "        print(item)\n",
        "\n",
        "    print(\"Big O\")\n",
        "    print(\"Big O\")\n",
        "    print(\"Big O\")\n",
        "\n",
        "complex_algo([3, 4, 5, 7])"
      ],
      "metadata": {
        "colab": {
          "base_uri": "https://localhost:8080/"
        },
        "id": "GkHtnXzPOaGL",
        "outputId": "19482e8e-45f4-464e-f45f-194e1b2a954c"
      },
      "execution_count": 42,
      "outputs": [
        {
          "output_type": "stream",
          "name": "stdout",
          "text": [
            "Python es fenomenal\n",
            "Python es fenomenal\n",
            "Python es fenomenal\n",
            "Python es fenomenal\n",
            "Python es fenomenal\n",
            "3\n",
            "4\n",
            "5\n",
            "7\n",
            "3\n",
            "4\n",
            "5\n",
            "7\n",
            "Big O\n",
            "Big O\n",
            "Big O\n"
          ]
        }
      ]
    },
    {
      "cell_type": "markdown",
      "source": [
        "O(8) + O(2n) => O(8) + O(n)"
      ],
      "metadata": {
        "id": "uuJVRLCxPL-o"
      }
    },
    {
      "cell_type": "markdown",
      "source": [
        "Peor vs mejor complejidad de caso"
      ],
      "metadata": {
        "id": "nx1PjpaJPYps"
      }
    },
    {
      "cell_type": "code",
      "source": [
        "def search_algo(num, items):\n",
        "    for item in items:\n",
        "        if item == num:\n",
        "            return True\n",
        "        else:\n",
        "            return False\n",
        "nums = [3,5, 7, 9, 11]\n",
        "\n",
        "print(search_algo(7, nums))"
      ],
      "metadata": {
        "colab": {
          "base_uri": "https://localhost:8080/"
        },
        "id": "7ckEJEbFPhsr",
        "outputId": "45928fd4-07ac-429d-c241-5f971313bf64"
      },
      "execution_count": 43,
      "outputs": [
        {
          "output_type": "stream",
          "name": "stdout",
          "text": [
            "False\n"
          ]
        }
      ]
    },
    {
      "cell_type": "markdown",
      "source": [
        "Complejidad Espacial:"
      ],
      "metadata": {
        "id": "ufl7GmqyQdm0"
      }
    },
    {
      "cell_type": "code",
      "source": [
        "def return_squares(n):\n",
        "    square_list = []\n",
        "    for num in n:\n",
        "        square_list.append(num * num)\n",
        "\n",
        "    return square_list\n",
        "\n",
        "nums = [3,5, 7, 9, 11]\n",
        "print(return_squares(nums))"
      ],
      "metadata": {
        "colab": {
          "base_uri": "https://localhost:8080/"
        },
        "id": "CuJx6L5uQhHT",
        "outputId": "8b8cf040-6a55-46f1-c5c5-103023576224"
      },
      "execution_count": 44,
      "outputs": [
        {
          "output_type": "stream",
          "name": "stdout",
          "text": [
            "[9, 25, 49, 81, 121]\n"
          ]
        }
      ]
    }
  ]
}